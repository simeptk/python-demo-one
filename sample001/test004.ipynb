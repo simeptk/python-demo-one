{
 "cells": [
  {
   "cell_type": "code",
   "execution_count": null,
   "id": "ee26aeb6",
   "metadata": {},
   "outputs": [],
   "source": [
    "a = 100\n",
    "b = 200\n",
    "c = a + b\n",
    "print(a,b,c)"
   ]
  },
  {
   "cell_type": "code",
   "execution_count": null,
   "id": "620a6015",
   "metadata": {},
   "outputs": [],
   "source": [
    "print(a,\"+\",b,\"=\",c)"
   ]
  },
  {
   "cell_type": "code",
   "execution_count": null,
   "id": "7eb1ba1c",
   "metadata": {},
   "outputs": [],
   "source": [
    "s1 = \"Kumaran\"\n",
    "s2 = \"PT\"\n",
    "s3 = s1 + \" \" + s2\n",
    "print(s3)\n",
    "s4 = \"200\"\n",
    "s5 = \"100\"\n",
    "s6 = s4 + s5\n",
    "print(s6)"
   ]
  },
  {
   "cell_type": "code",
   "execution_count": null,
   "id": "c592e03b",
   "metadata": {},
   "outputs": [],
   "source": [
    "t1 = 'Kumaran'\n",
    "t2 = \" PT\"\n",
    "t3 = t1 + t2\n",
    "print(t3)"
   ]
  },
  {
   "cell_type": "code",
   "execution_count": null,
   "id": "626fa83a",
   "metadata": {},
   "outputs": [],
   "source": [
    "a = input(\"Enter First Number:\")\n",
    "b = input(\"Enter Second Number:\")\n",
    "print(int(a),int(b),int(a)+int(b))"
   ]
  },
  {
   "cell_type": "code",
   "execution_count": null,
   "id": "8431b244",
   "metadata": {},
   "outputs": [
    {
     "name": "stdout",
     "output_type": "stream",
     "text": [
      "First Number 250\n",
      "Second Number 200\n",
      "First Number is Big\n"
     ]
    }
   ],
   "source": [
    "a = input(\"Enter First Number:\")\n",
    "b = input(\"Enter Second Number:\")\n",
    "a = int(a)\n",
    "b = int(b)\n",
    "print(f\"First Number {a}\\nSecond Number {b}\")\n",
    "\n",
    "# if(a>b):\n",
    "#     print(\"First Number is Big\")\n",
    "# else:\n",
    "#     print(\"Second Number is Big\")\n",
    "\n",
    "# if(a==b):\n",
    "#     print(\"Both the numbers are Equal\")\n",
    "# else:\n",
    "#     if(a>b):\n",
    "#         print(\"First Number is Big\")\n",
    "#     else:\n",
    "#         print(\"Second Number is Big\")\n",
    "\n",
    "if(a==b):\n",
    "    print(\"Both the numbers are Equal\")\n",
    "elif(a>b):\n",
    "    print(\"First Number is Big\")\n",
    "else:\n",
    "    print(\"Second Number is Big\")"
   ]
  },
  {
   "cell_type": "code",
   "execution_count": null,
   "id": "41e3a6a8",
   "metadata": {},
   "outputs": [],
   "source": []
  }
 ],
 "metadata": {
  "kernelspec": {
   "display_name": ".venv",
   "language": "python",
   "name": "python3"
  },
  "language_info": {
   "codemirror_mode": {
    "name": "ipython",
    "version": 3
   },
   "file_extension": ".py",
   "mimetype": "text/x-python",
   "name": "python",
   "nbconvert_exporter": "python",
   "pygments_lexer": "ipython3",
   "version": "3.12.3"
  }
 },
 "nbformat": 4,
 "nbformat_minor": 5
}
