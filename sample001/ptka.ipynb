{
 "cells": [
  {
   "cell_type": "code",
   "execution_count": null,
   "id": "134d0c39",
   "metadata": {
    "vscode": {
     "languageId": "plaintext"
    }
   },
   "outputs": [],
   "source": [
    "import random \n",
    "# create 10 sample student name\n",
    "student = []"
   ]
  }
 ],
 "metadata": {
  "language_info": {
   "name": "python"
  }
 },
 "nbformat": 4,
 "nbformat_minor": 5
}
