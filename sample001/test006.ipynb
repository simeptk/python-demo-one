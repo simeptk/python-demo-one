{
 "cells": [
  {
   "cell_type": "code",
   "execution_count": 3,
   "id": "9be83c8e",
   "metadata": {},
   "outputs": [
    {
     "name": "stdout",
     "output_type": "stream",
     "text": [
      "2\n",
      "4\n",
      "6\n",
      "8\n",
      "10\n"
     ]
    }
   ],
   "source": [
    "# need to demonstrate for loop to display the numbers 1 to 10\n",
    "# for i in range(1, 11):\n",
    "#     # print the number\n",
    "#     print(i)\n",
    "\n",
    "# need to demonstrate for loop to display the even numbers 1 to 10\n",
    "for i in range(1, 11):\n",
    "    # check if the number is even\n",
    "    if i % 2 == 0:\n",
    "        # print the number\n",
    "        print(i)"
   ]
  }
 ],
 "metadata": {
  "kernelspec": {
   "display_name": ".venv",
   "language": "python",
   "name": "python3"
  },
  "language_info": {
   "codemirror_mode": {
    "name": "ipython",
    "version": 3
   },
   "file_extension": ".py",
   "mimetype": "text/x-python",
   "name": "python",
   "nbconvert_exporter": "python",
   "pygments_lexer": "ipython3",
   "version": "3.12.3"
  }
 },
 "nbformat": 4,
 "nbformat_minor": 5
}
