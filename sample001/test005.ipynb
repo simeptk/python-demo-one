{
 "cells": [
  {
   "cell_type": "code",
   "execution_count": 38,
   "id": "e3bb4f11",
   "metadata": {},
   "outputs": [
    {
     "name": "stdout",
     "output_type": "stream",
     "text": [
      "20\n",
      "4\n",
      "2\n",
      "Counter({' ': 3, 'A': 3, 'M': 3, 'K': 2, 'R': 2, 'S': 2, 'E': 1, 'G': 1, 'H': 1, 'N': 1, 'U': 1})\n"
     ]
    }
   ],
   "source": [
    "from collections import Counter\n",
    "\n",
    "s1 = \"Ganesh Ram Kumar MSK\"\n",
    "a = len(s1)\n",
    "print(a)\n",
    "# Find number of words in a string s1\n",
    "s2 = s1.split()\n",
    "print(len(s2))\n",
    "\n",
    "# Find number of 'a' available in variable s1\n",
    "s3 = s1.upper().count('S')\n",
    "# s3 = s1.count('r')\n",
    "print(s3)\n",
    "\n",
    "# Find number of each character in a string s1\n",
    "s4 = Counter(sorted(s1.upper()))\n",
    "# s4 = Counter(sorted(s1))\n",
    "print(s4)\n"
   ]
  },
  {
   "cell_type": "code",
   "execution_count": null,
   "id": "4d00b380",
   "metadata": {},
   "outputs": [],
   "source": []
  }
 ],
 "metadata": {
  "kernelspec": {
   "display_name": ".venv",
   "language": "python",
   "name": "python3"
  },
  "language_info": {
   "codemirror_mode": {
    "name": "ipython",
    "version": 3
   },
   "file_extension": ".py",
   "mimetype": "text/x-python",
   "name": "python",
   "nbconvert_exporter": "python",
   "pygments_lexer": "ipython3",
   "version": "3.12.3"
  }
 },
 "nbformat": 4,
 "nbformat_minor": 5
}
